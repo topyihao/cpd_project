{
 "cells": [
  {
   "cell_type": "markdown",
   "id": "dca65b43",
   "metadata": {},
   "source": [
    "# Week 1: Project Environment Setup and Data Collection:\n",
    "## Installations:\n",
    "- Set up Python and essential libraries, including numpy, scipy, sklearn, and librosa.\n",
    "- Install libraries for machine learning, such as tensorflow or pytorch.\n",
    "## Data Collection:\n",
    "- Collect audio data from diverse environments, including quiet and noisy backgrounds.\n",
    "- Ensure a variety of noises are represented, such as city sounds, household noises, and conversation recordings.\n",
    "## Data Storage:\n",
    "- Organize the collected audio data into labeled directories based on noise types and speech clarity.\n",
    "## Data Analysis:\n",
    "- Perform a basic exploratory data analysis (EDA) on the collected data, examining its distribution and key features."
   ]
  },
  {
   "cell_type": "markdown",
   "id": "a652225f",
   "metadata": {},
   "source": [
    "## Installations: \n",
    "- Ensure Python is installed. running `python --version` in command line to check.\n",
    "- Install essential libraries: \n",
    "    + `pip install numpy`\n",
    "    + `pip install scikit-learn`\n",
    "    + `pip install scipy`\n",
    "    + `pip install matplotlib`\n",
    "    + `pip install librosa`\n",
    "    + `pip install noisereduce` "
   ]
  },
  {
   "cell_type": "code",
   "execution_count": 5,
   "id": "20dd3405",
   "metadata": {
    "vscode": {
     "languageId": "plaintext"
    }
   },
   "outputs": [
    {
     "ename": "FileNotFoundError",
     "evalue": "[Errno 2] No such file or directory: './ESC-10'",
     "output_type": "error",
     "traceback": [
      "\u001b[0;31m---------------------------------------------------------------------------\u001b[0m",
      "\u001b[0;31mFileNotFoundError\u001b[0m                         Traceback (most recent call last)",
      "Cell \u001b[0;32mIn[5], line 27\u001b[0m\n\u001b[1;32m     24\u001b[0m     plt\u001b[38;5;241m.\u001b[39mcolorbar(\u001b[38;5;28mformat\u001b[39m\u001b[38;5;241m=\u001b[39m\u001b[38;5;124m\"\u001b[39m\u001b[38;5;132;01m%+2.0f\u001b[39;00m\u001b[38;5;124m dB\u001b[39m\u001b[38;5;124m\"\u001b[39m)\n\u001b[1;32m     25\u001b[0m     plt\u001b[38;5;241m.\u001b[39mshow()\n\u001b[0;32m---> 27\u001b[0m sound_files \u001b[38;5;241m=\u001b[39m os\u001b[38;5;241m.\u001b[39mlistdir(\u001b[38;5;124m\"\u001b[39m\u001b[38;5;124m./ESC-10\u001b[39m\u001b[38;5;124m\"\u001b[39m)\n\u001b[1;32m     28\u001b[0m \u001b[38;5;28mprint\u001b[39m(sound_files)\n",
      "\u001b[0;31mFileNotFoundError\u001b[0m: [Errno 2] No such file or directory: './ESC-10'"
     ]
    }
   ],
   "source": [
    "import librosa\n",
    "import matplotlib.pyplot as plt\n",
    "import numpy as np\n",
    "import os\n",
    "\n",
    "# Function to load and display waveform and spectrogram\n",
    "def analyze_audio(file_path):\n",
    "    # Load audio file\n",
    "    y, sr = librosa.load(file_path)\n",
    "\n",
    "    # Display waveform\n",
    "    plt.figure(figsize=(10, 4))\n",
    "    plt.plot(np.arange(len(y)) / sr, y)\n",
    "    plt.title(f\"Waveform: {file_path}\")\n",
    "    plt.xlabel(\"Time (s)\")\n",
    "    plt.ylabel(\"Amplitude\")\n",
    "    plt.show()\n",
    "\n",
    "    # Display spectrogram\n",
    "    D = librosa.amplitude_to_db(np.abs(librosa.stft(y)), ref=np.max)\n",
    "    plt.figure(figsize=(10, 4))\n",
    "    librosa.display.specshow(D, sr=sr, x_axis=\"time\", y_axis=\"log\")\n",
    "    plt.title(f\"Spectrogram: {file_path}\")\n",
    "    plt.colorbar(format=\"%+2.0f dB\")\n",
    "    plt.show()\n",
    "\n",
    "sound_files = os.listdir(\"/ESC-10\")\n",
    "print(sound_files)\n",
    "\n"
   ]
  },
  {
   "cell_type": "markdown",
   "id": "469a8295",
   "metadata": {},
   "source": [
    "# Week 2: Basic Audio Data Preprocessing:\n",
    "## Noise Filtering:\n",
    "- Apply simple filtering techniques such as low-pass and high-pass filters to remove high-frequency or low-frequency noise.\n",
    "## Normalization:\n",
    "- Normalize the audio signals to a consistent volume level, ensuring uniformity across the dataset.\n",
    "## Denoising:\n",
    "- Experiment with techniques like spectral gating or noise reduction algorithms to remove static noise.\n",
    "## Feature Extraction:\n",
    "- Extract initial features such as Mel Frequency Cepstral Coefficients (MFCCs) or spectrograms from the audio signals."
   ]
  },
  {
   "cell_type": "code",
   "execution_count": null,
   "id": "5e7d97c7",
   "metadata": {
    "vscode": {
     "languageId": "plaintext"
    }
   },
   "outputs": [],
   "source": []
  },
  {
   "cell_type": "markdown",
   "id": "ac9494fd",
   "metadata": {},
   "source": [
    "# Week 3: Advanced Preprocessing and Feature Extraction:\n",
    "## Feature Extraction Enhancement:\n",
    "- Explore and implement additional features like chroma features, zero-crossing rates, and spectral contrast.\n",
    "## Preprocessing Refinement:\n",
    "- Revisit and enhance earlier preprocessing steps, incorporating techniques such as wavelet denoising or Fourier Transform for frequency analysis.\n",
    "## Feature Selection:\n",
    "- Apply techniques like Principal Component Analysis (PCA) or Feature Importance analysis to identify key features for machine learning.\n",
    "## Dataset Preparation:\n",
    "- Split the dataset into training and validation sets, ensuring a balanced representation of noise types and speech samples."
   ]
  },
  {
   "cell_type": "code",
   "execution_count": null,
   "id": "bf006fbe",
   "metadata": {
    "vscode": {
     "languageId": "plaintext"
    }
   },
   "outputs": [],
   "source": []
  },
  {
   "cell_type": "markdown",
   "id": "3be2657d",
   "metadata": {},
   "source": [
    "# Week 4: Machine Learning Model Implementation:\n",
    "## Model Selection:\n",
    "- Select machine learning algorithms for noise recognition and suppression, focusing on CNNs and SVMs.\n",
    "## CNN Implementation:\n",
    "- Build and train a Convolutional Neural Network to classify and suppress noise from audio signals.\n",
    "## SVM Implementation:\n",
    "- Develop and train a Support Vector Machine for noise classification and speech enhancement.\n",
    "# Model Evaluation:\n",
    "- Evaluate both models using metrics such as accuracy, precision, recall, and F1 score."
   ]
  },
  {
   "cell_type": "code",
   "execution_count": null,
   "id": "af362a42",
   "metadata": {
    "vscode": {
     "languageId": "plaintext"
    }
   },
   "outputs": [],
   "source": []
  },
  {
   "cell_type": "markdown",
   "id": "8878997c",
   "metadata": {},
   "source": [
    "# Week 5: Model Testing and Refinement:\n",
    "## Validation Testing:\n",
    "- Test the models on a separate validation dataset, measuring performance metrics like accuracy and SNR improvement.\n",
    "## Model Refinement:\n",
    "- Refine model hyperparameters (e.g., learning rate, regularization) to improve performance.\n",
    "## Cross-Validation:\n",
    "- Perform k-fold cross-validation to ensure model generalizability and stability.\n",
    "## Integration Preparation:\n",
    "- Begin planning integration of the trained models into a hardware prototype."
   ]
  },
  {
   "cell_type": "code",
   "execution_count": null,
   "id": "e1cba3dd",
   "metadata": {
    "vscode": {
     "languageId": "plaintext"
    }
   },
   "outputs": [],
   "source": []
  },
  {
   "cell_type": "markdown",
   "id": "76c001ae",
   "metadata": {},
   "source": [
    "# Week 6: Hardware Integration and Final Documentation:\n",
    "## Hardware Prototype:\n",
    "- Integrate the trained models into an embedded system, such as a Raspberry Pi or Arduino, for real-world testing.\n",
    "## Real-World Testing:\n",
    "- Test the system in various environments, measuring its ability to filter out noise and enhance speech clarity.\n",
    "## Project Documentation:\n",
    "- Prepare comprehensive documentation, covering system design, algorithm choices, training processes, and performance metrics.\n",
    "## Final Presentation:\n",
    "- Create a presentation summarizing the project, including key findings, implementation steps, and future directions."
   ]
  }
 ],
 "metadata": {
  "kernelspec": {
   "display_name": "cpd_project",
   "language": "python",
   "name": "cpd_project"
  },
  "language_info": {
   "codemirror_mode": {
    "name": "ipython",
    "version": 3
   },
   "file_extension": ".py",
   "mimetype": "text/x-python",
   "name": "python",
   "nbconvert_exporter": "python",
   "pygments_lexer": "ipython3",
   "version": "3.12.3"
  }
 },
 "nbformat": 4,
 "nbformat_minor": 5
}
